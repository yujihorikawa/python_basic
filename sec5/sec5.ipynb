{
  "nbformat": 4,
  "nbformat_minor": 0,
  "metadata": {
    "colab": {
      "provenance": []
    },
    "kernelspec": {
      "name": "python3",
      "display_name": "Python 3"
    },
    "language_info": {
      "name": "python"
    }
  },
  "cells": [
    {
      "cell_type": "code",
      "execution_count": 1,
      "metadata": {
        "colab": {
          "base_uri": "https://localhost:8080/"
        },
        "id": "9FFHrqUWo45X",
        "outputId": "dc7e3610-1227-4578-cc1b-013cd66774c5"
      },
      "outputs": [
        {
          "output_type": "stream",
          "name": "stdout",
          "text": [
            "100から30を引くと70になります\n"
          ]
        }
      ],
      "source": [
        "print(f\"{100}から{30}を引くと{70}になります\")"
      ]
    },
    {
      "cell_type": "code",
      "source": [
        "'''\n",
        "family_member\n",
        "math_score\n",
        "child_name\n",
        "'''"
      ],
      "metadata": {
        "id": "HJ5b_t6so-q7"
      },
      "execution_count": null,
      "outputs": []
    }
  ]
}