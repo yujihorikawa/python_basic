{
  "nbformat": 4,
  "nbformat_minor": 0,
  "metadata": {
    "colab": {
      "provenance": []
    },
    "kernelspec": {
      "name": "python3",
      "display_name": "Python 3"
    },
    "language_info": {
      "name": "python"
    }
  },
  "cells": [
    {
      "cell_type": "code",
      "execution_count": 1,
      "metadata": {
        "colab": {
          "base_uri": "https://localhost:8080/"
        },
        "id": "MLsxPDs7ooc7",
        "outputId": "db93a2eb-f0a2-4633-bad2-3ce05725d12c"
      },
      "outputs": [
        {
          "output_type": "stream",
          "name": "stdout",
          "text": [
            "こんにちわ\n",
            "10\n"
          ]
        }
      ],
      "source": [
        "print(\"こんにちわ\")\n",
        "print(10)"
      ]
    },
    {
      "cell_type": "code",
      "source": [
        "print(str(10) + \"から\" + str(1) + \"を引くと\" + str(9) + \"になります\")"
      ],
      "metadata": {
        "colab": {
          "base_uri": "https://localhost:8080/"
        },
        "id": "YYoI74LZovdU",
        "outputId": "f86c4f86-d4d3-4f0f-deef-667feae51e1b"
      },
      "execution_count": 2,
      "outputs": [
        {
          "output_type": "stream",
          "name": "stdout",
          "text": [
            "10から1を引くと9になります\n"
          ]
        }
      ]
    }
  ]
}