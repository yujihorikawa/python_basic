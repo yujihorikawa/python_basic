{
  "nbformat": 4,
  "nbformat_minor": 0,
  "metadata": {
    "colab": {
      "provenance": []
    },
    "kernelspec": {
      "name": "python3",
      "display_name": "Python 3"
    },
    "language_info": {
      "name": "python"
    }
  },
  "cells": [
    {
      "cell_type": "code",
      "source": [
        "age = 18 # 年齢\n",
        "\n",
        "if age < 20:\n",
        "    '''\n",
        "    # 未成年の場合\n",
        "    print(\"ジュースで乾杯！\")\n",
        "else:\n",
        "    '''\n",
        "    # 成年の場合\n",
        "    print(\"お酒で乾杯！\")\n"
      ],
      "metadata": {
        "colab": {
          "base_uri": "https://localhost:8080/"
        },
        "id": "dDU3ttMzgwt1",
        "outputId": "175e908c-6c8a-4f69-ebf2-d2d1d8464b03"
      },
      "execution_count": 2,
      "outputs": [
        {
          "output_type": "stream",
          "name": "stdout",
          "text": [
            "お酒で乾杯！\n"
          ]
        }
      ]
    },
    {
      "cell_type": "code",
      "source": [
        "'''\n",
        "hallo\n",
        "welcome\n",
        "nice to meet you\n",
        "'''"
      ],
      "metadata": {
        "colab": {
          "base_uri": "https://localhost:8080/",
          "height": 35
        },
        "id": "fN4RiV3AihMb",
        "outputId": "2576070f-4a72-4a59-b62e-326ff512aaa0"
      },
      "execution_count": 12,
      "outputs": [
        {
          "output_type": "execute_result",
          "data": {
            "text/plain": [
              "'\\nhallo\\nwelcome\\nnice to meet you\\n'"
            ],
            "application/vnd.google.colaboratory.intrinsic+json": {
              "type": "string"
            }
          },
          "metadata": {},
          "execution_count": 12
        }
      ]
    },
    {
      "cell_type": "code",
      "source": [
        "print(str(10) + \"から\" + str(1) + \"を引くと\" + str(9) + \"になります\")\n"
      ],
      "metadata": {
        "colab": {
          "base_uri": "https://localhost:8080/"
        },
        "id": "L7EIbZqXlAPK",
        "outputId": "60840fd5-1553-46c1-db7d-875e21dce1d6"
      },
      "execution_count": 17,
      "outputs": [
        {
          "output_type": "stream",
          "name": "stdout",
          "text": [
            "10から1を引くと9になります\n"
          ]
        }
      ]
    },
    {
      "cell_type": "code",
      "source": [
        "print(f\"{100}から{30}を引くと{70}になります\")"
      ],
      "metadata": {
        "colab": {
          "base_uri": "https://localhost:8080/"
        },
        "id": "pUFKUm9BmSSS",
        "outputId": "06199a50-0a90-4489-9e58-80d7e7a4cf87"
      },
      "execution_count": 18,
      "outputs": [
        {
          "output_type": "stream",
          "name": "stdout",
          "text": [
            "100から30を引くと70になります\n"
          ]
        }
      ]
    }
  ]
}